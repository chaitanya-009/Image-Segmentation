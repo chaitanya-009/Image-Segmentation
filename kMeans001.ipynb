{
 "cells": [
  {
   "cell_type": "code",
   "execution_count": null,
   "id": "b80565fe-a63e-4fcb-a663-c51b89273d49",
   "metadata": {},
   "outputs": [],
   "source": [
    "import numpy as np\n",
    "import cv2\n",
    "from sklearn.cluster import KMeans\n",
    "from tkinter import filedialog\n",
    "import matplotlib.pyplot as plt"
   ]
  },
  {
   "cell_type": "code",
   "execution_count": null,
   "id": "406f24dc-0db9-4927-9e04-eee7c50125c3",
   "metadata": {},
   "outputs": [],
   "source": [
    "def find_optimal_k(image_path):\n",
    "    image = cv2.imread(image_path)\n",
    "    image = cv2.cvtColor(image, cv2.COLOR_BGR2RGB)  \n",
    "    pixel_values = image.reshape((-1, 3))\n",
    "\n",
    "    inertia_values = []\n",
    "    k_values = range(2, 11)  # Adjust the range of k-values as needed\n",
    "\n",
    "    for k in k_values:\n",
    "        kmeans = KMeans(n_clusters=k)\n",
    "        kmeans.fit(pixel_values)\n",
    "        inertia_values.append(kmeans.inertia_)\n",
    "\n",
    "    # Plot inertia values for different k-values\n",
    "    plt.plot(k_values, inertia_values, 'bx-')\n",
    "    plt.xlabel('Number of clusters (k)')\n",
    "    plt.ylabel('Inertia')\n",
    "    plt.title('Inertia vs. Number of Clusters')\n",
    "    plt.show()\n",
    "\n",
    "    # Determine the optimal k using the elbow method\n",
    "    diff = np.diff(inertia_values)\n",
    "    diff_r = diff[1:] / diff[:-1]\n",
    "    optimal_k = k_values[np.argmin(diff_r) + 1]  # Add 1 to account for the removed element in diff_r\n",
    "\n",
    "    return optimal_k"
   ]
  },
  {
   "cell_type": "code",
   "execution_count": null,
   "id": "315398e2-b9ce-41d5-9a2a-f2626c1011f3",
   "metadata": {},
   "outputs": [],
   "source": [
    "def segment_image(image_path, num_clusters):\n",
    "    image = cv2.imread(image_path)\n",
    "    image = cv2.cvtColor(image, cv2.COLOR_BGR2RGB)  \n",
    "    \n",
    "    pixel_values = image.reshape((-1, 3))\n",
    "    \n",
    "    kmeans = KMeans(n_clusters=num_clusters)\n",
    "    kmeans.fit(pixel_values)\n",
    "    \n",
    "    cluster_centers = np.array(kmeans.cluster_centers_, dtype=np.uint8)\n",
    "    labels = np.array(kmeans.labels_, dtype=np.uint8)\n",
    "    \n",
    "    segmented_image = cluster_centers[labels.flatten()]\n",
    "    segmented_image = segmented_image.reshape(image.shape)\n",
    "    \n",
    "    return segmented_image"
   ]
  },
  {
   "cell_type": "code",
   "execution_count": null,
   "id": "0d29ccd4-6e3d-4516-afe5-6c63ee27263e",
   "metadata": {},
   "outputs": [],
   "source": [
    "image_path = filedialog.askopenfilename()  \n",
    "optimal_k = find_optimal_k(image_path)\n",
    "print(\"Optimal value of k:\", optimal_k)\n",
    "\n",
    "segmented_image = segment_image(image_path, optimal_k)\n",
    "\n",
    "cv2.imshow(\"Original Image\", cv2.imread(image_path))\n",
    "cv2.imshow(f\"Segmented Image (K={optimal_k})\", cv2.cvtColor(segmented_image, cv2.COLOR_RGB2BGR))\n",
    "cv2.waitKey(0)\n",
    "cv2.destroyAllWindows()"
   ]
  }
 ],
 "metadata": {
  "kernelspec": {
   "display_name": "Python 3 (ipykernel)",
   "language": "python",
   "name": "python3"
  },
  "language_info": {
   "codemirror_mode": {
    "name": "ipython",
    "version": 3
   },
   "file_extension": ".py",
   "mimetype": "text/x-python",
   "name": "python",
   "nbconvert_exporter": "python",
   "pygments_lexer": "ipython3",
   "version": "3.12.3"
  }
 },
 "nbformat": 4,
 "nbformat_minor": 5
}
